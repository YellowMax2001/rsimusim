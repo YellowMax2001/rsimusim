{
 "cells": [
  {
   "cell_type": "code",
   "execution_count": 49,
   "metadata": {
    "collapsed": false
   },
   "outputs": [],
   "source": [
    "from tests.helpers import random_orientation, random_position\n",
    "from imusim.maths.quaternions import QuaternionArray, Quaternion\n",
    "from imusim.testing.random_data import RandomTrajectory\n",
    "from imusim.trajectories.sampled import SampledTrajectory\n",
    "from imusim.trajectories.splined import SplinedTrajectory\n",
    "from imusim.utilities.time_series import TimeSeries\n",
    "import functools\n",
    "import time\n",
    "import random\n",
    "import numpy as np\n",
    "import pickle\n",
    "import matplotlib.pyplot as plt\n",
    "import scipy.optimize\n",
    "from ipywidgets import IntProgress\n",
    "from IPython.display import display\n",
    "from matplotlib.gridspec import GridSpec\n",
    "from crisp.camera import AtanCameraModel\n",
    "from rsimusim.camera import PinholeModel\n",
    "from rsimusim.misc import CalibratedGyroStream\n",
    "from rsimusim.dataset import Dataset\n",
    "%matplotlib inline"
   ]
  },
  {
   "cell_type": "code",
   "execution_count": 73,
   "metadata": {
    "collapsed": false
   },
   "outputs": [],
   "source": [
    "def project_at_time(t, landmark, trajectory, camera_model):\n",
    "    R = np.array(trajectory.rotation(t).toMatrix())\n",
    "    p = trajectory.position(t)\n",
    "    T = np.hstack((R.T, np.dot(R.T, -p)))\n",
    "    Xh = np.ones((4,1))\n",
    "    Xh[:3] = landmark\n",
    "    landmark_camera = np.dot(T, Xh)\n",
    "    return camera_model.project(landmark_camera)\n",
    "\n",
    "def cost_function_base(t0, landmark, trajectory, camera_model, row, method='abs'):\n",
    "    row_delta = camera_model.readout / float(camera_model.rows)\n",
    "    t = t0 + row * row_delta\n",
    "    x, y = project_at_time(t, landmark, trajectory, camera_model).ravel()\n",
    "    residual = row - y\n",
    "    if method == 'abs':\n",
    "        return np.abs(residual)\n",
    "    elif method == 'linear':\n",
    "        return residual\n",
    "    else:\n",
    "        raise ValueError('No such method {}'.format(method))"
   ]
  },
  {
   "cell_type": "code",
   "execution_count": 3,
   "metadata": {
    "collapsed": true
   },
   "outputs": [],
   "source": [
    "focal = 550.\n",
    "image_size = (1920, 1080)\n",
    "K = np.array([[focal, 0, image_size[0]/2.],\n",
    "             [0, focal, image_size[1]/2.],\n",
    "             [0, 0, 1]])\n",
    "fps = 30.\n",
    "readout = 0.95 / fps\n",
    "pinhole_camera = PinholeModel(K, image_size, readout, fps)"
   ]
  },
  {
   "cell_type": "code",
   "execution_count": 4,
   "metadata": {
    "collapsed": true
   },
   "outputs": [],
   "source": [
    "atan_camera = AtanCameraModel.from_hdf('/home/hannes/Code/crisp/hero3_atan.hdf')"
   ]
  },
  {
   "cell_type": "markdown",
   "metadata": {},
   "source": [
    "## Load dataset from file\n",
    "Contains trajectory and landmarks"
   ]
  },
  {
   "cell_type": "code",
   "execution_count": 5,
   "metadata": {
    "collapsed": false
   },
   "outputs": [],
   "source": [
    "ds = Dataset.from_file('rccar_openmvg.h5')"
   ]
  },
  {
   "cell_type": "markdown",
   "metadata": {},
   "source": [
    "## Find misbehaving cases\n",
    "Try to project using the linear model.\n",
    "Filter out any point that do not agree with truth up to a threshold (less than a row).\n",
    "Points that do not have a minimum absolute cost close to 0 are not visible *using the current camera model*."
   ]
  },
  {
   "cell_type": "code",
   "execution_count": 56,
   "metadata": {
    "collapsed": false
   },
   "outputs": [
    {
     "name": "stdout",
     "output_type": "stream",
     "text": [
      "Found 654 problematic projections\n"
     ]
    }
   ],
   "source": [
    "duration = ds.trajectory.endTime - ds.trajectory.startTime\n",
    "num_frames = int(pinhole_camera.frame_rate * duration)\n",
    "rows = np.arange(pinhole_camera.rows)\n",
    "frame_times = ds.trajectory.startTime + np.arange(num_frames) / pinhole_camera.frame_rate\n",
    "a = int(0.2 * pinhole_camera.rows)\n",
    "b = int(0.8 * pinhole_camera.rows)\n",
    "max_lm_for_frame = 3\n",
    "\n",
    "pbar = IntProgress(min=0, max=len(frame_times)-1)\n",
    "display(pbar)\n",
    "problematic = []\n",
    "for t0 in frame_times:\n",
    "    lm_for_frame = 0\n",
    "    landmarks = ds.visible_landmarks(t0 + 0.5*pinhole_camera.readout)\n",
    "    random.shuffle(landmarks)\n",
    "    for lm in landmarks:\n",
    "        X = lm.position.reshape(3,1)\n",
    "        cost_func = np.vectorize(functools.partial(cost_function_base, t0, X, ds.trajectory, pinhole_camera, method='linear'))\n",
    "        cost_linear = cost_func(rows)\n",
    "        cost_abs = np.abs(cost_linear)\n",
    "        # Find \"true\" minimum with subpix accuracy around current minima\n",
    "        min_row = np.argmin(cost_abs)\n",
    "        row_minimum = scipy.optimize.minimize_scalar(lambda x: cost_func(x)**2, bounds=(min_row-0.5, min_row+0.5)).x\n",
    "        #row_minimum = np.argmin(cost_abs)\n",
    "        if np.min(cost_abs) < 1: # point is visible in this camera\n",
    "            # SOlve linear two point model\n",
    "            cost_a = cost_linear[a]\n",
    "            cost_b = cost_linear[b]\n",
    "            row_estimate = a - cost_a * (b - a) / (cost_b - cost_a)\n",
    "            residual = row_estimate - row_minimum\n",
    "            if np.abs(residual) > 1.0:\n",
    "                problematic.append((residual, X, t0))\n",
    "            lm_for_frame += 1\n",
    "        if lm_for_frame >= max_lm_for_frame:\n",
    "            break\n",
    "    pbar.value += 1\n",
    "\n",
    "print 'Found', len(problematic), 'problematic projections'"
   ]
  },
  {
   "cell_type": "code",
   "execution_count": null,
   "metadata": {
    "collapsed": true
   },
   "outputs": [],
   "source": [
    "pickle.dump()"
   ]
  },
  {
   "cell_type": "markdown",
   "metadata": {},
   "source": [
    "## Check problematic projections\n",
    "If we add third cost measurement, will a new linear or quadratic estimator find the correct projection?"
   ]
  },
  {
   "cell_type": "code",
   "execution_count": 155,
   "metadata": {
    "collapsed": false
   },
   "outputs": [
    {
     "name": "stdout",
     "output_type": "stream",
     "text": [
      "503 502.976962026\n"
     ]
    }
   ],
   "source": [
    "def valid_root(roots, camera_model):\n",
    "    if not len(roots) == 2:\n",
    "        raise NotImplementedError(\"Only quadratic roots implemented\")\n",
    "    if np.all(roots < 0) or np.all(roots > camera_model.rows - 1) or (np.all(roots >= 0) and np.all(roots <= camera_model.rows - 1)):\n",
    "        return None\n",
    "    else:\n",
    "        for r in roots:\n",
    "            if 0 <= r < camera_model.rows - 1:\n",
    "                return r\n",
    "     \n",
    "         \n",
    "linear_result = []\n",
    "quadratic_result = []\n",
    "pbar = IntProgress(min=0, max=len(problematic)-1)\n",
    "display(pbar)\n",
    "for _, X, t0 in problematic:\n",
    "    # Find original two points\n",
    "    cost_func = np.vectorize(functools.partial(cost_function_base, t0, X, ds.trajectory, pinhole_camera, method='linear'))\n",
    "    cost_func_abs = np.vectorize(functools.partial(cost_function_base, t0, X, ds.trajectory, pinhole_camera, method='abs'))\n",
    "    cost_linear = cost_func(rows)\n",
    "    cost_a = cost_linear[a]\n",
    "    cost_b = cost_linear[b]\n",
    "    min_row = np.argmin(np.abs(cost_linear))\n",
    "    final_true = scipy.optimize.minimize_scalar(cost_func_abs, bounds=(min_row-0.5, min_row+0.5)).x\n",
    "    print min_row, final_true\n",
    "    break\n",
    "    #final_true = np.argmin(np.abs(cost_linear))\n",
    "    \n",
    "    # Create the third based on linear estimate\n",
    "    c = a - cost_a * (b - a) / (cost_b - cost_a)\n",
    "    cost_c = cost_func(c)\n",
    "    \n",
    "    xdata_linear = [a, b, c]\n",
    "    ydata_linear = [cost_a, cost_b, cost_c]\n",
    "    xdata_quadratic = [a, b, c]\n",
    "    ydata_quadratic = [cost_a, cost_b, cost_c]\n",
    "    \n",
    "    for i in range(10):\n",
    "        # New linear model\n",
    "        linear_coef = np.polyfit(xdata_linear, ydata_linear, 1)\n",
    "        new_linear = np.roots(linear_coef)[0]\n",
    "        new_linear_cost = cost_func(new_linear)\n",
    "        residual = new_linear - final_true\n",
    "        if np.abs(residual) < 1.0:\n",
    "            linear_result.append((residual, len(xdata_linear)+1))\n",
    "            break\n",
    "        else:\n",
    "            xdata_linear.append(new_linear)\n",
    "            ydata_linear.append(new_linear_cost)\n",
    "    else:\n",
    "        print 'Linear failed to converge'\n",
    "    \n",
    "    for i in range(10):\n",
    "        # New quadratic model\n",
    "        quadratic_coef = np.polyfit(xdata_quadratic, ydata_quadratic, 2)\n",
    "        new_quadratic = valid_root(np.roots(quadratic_coef), pinhole_camera)\n",
    "        new_quadratic_cost = cost_func(new_quadratic)\n",
    "        residual = new_quadratic - final_true\n",
    "        if np.abs(residual) < 1.0:\n",
    "            quadratic_result.append((residual, len(xdata_quadratic)+1))\n",
    "            break\n",
    "        else:\n",
    "            xdata_quadratic.append(new_quadratic)\n",
    "            ydata_quadratic.append(new_quadratic_cost)\n",
    "    else:\n",
    "        print 'Quadratic failed to converge'\n",
    "    pbar.value += 1\n",
    "    "
   ]
  },
  {
   "cell_type": "code",
   "execution_count": 38,
   "metadata": {
    "collapsed": false
   },
   "outputs": [
    {
     "data": {
      "image/png": "[encoded data removed]",
      "text/plain": [
       "<matplotlib.figure.Figure at 0x7fbaa6b10110>"
      ]
     },
     "metadata": {},
     "output_type": "display_data"
    },
    {
     "data": {
      "image/png": "[encoded data removed]",
      "text/plain": [
       "<matplotlib.figure.Figure at 0x7fbaa6d37b10>"
      ]
     },
     "metadata": {},
     "output_type": "display_data"
    }
   ],
   "source": [
    "from collections import Counter\n",
    "\n",
    "for result, name in ((linear_result, 'Linear'), (quadratic_result, 'Quadratic')):\n",
    "    plt.figure(figsize=(8, 3))\n",
    "    plt.subplot(1,2,1)\n",
    "    plt.hist([residual for residual, _ in result])\n",
    "    plt.title('Residual')\n",
    "    plt.xlim(-1, 1)\n",
    "    plt.ylim(0, 300)\n",
    "    plt.subplot(1,2,2)\n",
    "    iter_counter = Counter([neval for _, neval in result])\n",
    "    iterations = sorted(iter_counter.keys())\n",
    "    iterations_freq = np.array([iter_counter[k] for k in iterations], dtype='float') / len(linear_result)\n",
    "    plt.bar(iterations, iterations_freq)\n",
    "    plt.xlim(0, 14)\n",
    "    plt.ylim(0, 1.0)\n",
    "    plt.title('Function evaluations')\n",
    "    plt.suptitle(name)"
   ]
  },
  {
   "cell_type": "code",
   "execution_count": 46,
   "metadata": {
    "collapsed": false
   },
   "outputs": [
    {
     "data": {
      "text/plain": [
       "<matplotlib.lines.Line2D at 0x7fbaa66baa90>"
      ]
     },
     "execution_count": 46,
     "metadata": {},
     "output_type": "execute_result"
    },
    {
     "data": {
      "image/png": "[encoded data removed]",
      "text/plain": [
       "<matplotlib.figure.Figure at 0x7fbaa6f7e690>"
      ]
     },
     "metadata": {},
     "output_type": "display_data"
    }
   ],
   "source": [
    "x = np.arange(8) - 1.5\n",
    "y = 0.5 * x - 1\n",
    "plt.plot(x, y, '-o')\n",
    "plt.axvline(0, color='k')\n",
    "plt.axhline(0, color='k')"
   ]
  },
  {
   "cell_type": "code",
   "execution_count": 174,
   "metadata": {
    "collapsed": false
   },
   "outputs": [],
   "source": [
    "class ProjectionError(Exception):\n",
    "    def __init__(self, roots, xdata, ydata):\n",
    "        self.roots = roots\n",
    "        self.xdata = xdata\n",
    "        self.ydata = ydata\n",
    "        super(ProjectionError, self).__init__()\n",
    "        \n",
    "def project_rs(X, t0, trajectory, camera_model, threshold=0.5, return_evals=False):\n",
    "    row_delta = float(camera_model.readout) / camera_model.rows\n",
    "    \n",
    "    # Two initial test points\n",
    "    #a = int(0.2 * camera_model.rows)\n",
    "    a = 0\n",
    "    pa = project_at_time(t0 + a * row_delta, X, trajectory, camera_model)\n",
    "    cost_a = a - float(pa[1])\n",
    "    if np.abs(cost_a) < threshold:\n",
    "        return (pa, 1) if return_evals else pa\n",
    "    \n",
    "    #b = int(0.8 * camera_model.rows)\n",
    "    b = camera_model.rows - 1\n",
    "    pb = project_at_time(t0 + b * row_delta, X, trajectory, camera_model)\n",
    "    cost_b = b - float(pb[1])\n",
    "    if np.abs(cost_b) < threshold:\n",
    "        return (pb, 2) if return_evals else pb\n",
    "\n",
    "    # Use linear model to find new estimate\n",
    "    c = a - cost_a * (b - a) / (cost_b - cost_a)\n",
    "    pc = project_at_time(t0 + c * row_delta, X, trajectory, camera_model)\n",
    "    cost_c = c - float(pc[1])\n",
    "    if np.abs(cost_c) < threshold:\n",
    "        return (pc, 3) if return_evals else pc\n",
    "\n",
    "    # Use quadratic\n",
    "    q = np.polyfit([a, b, c], [cost_a, cost_b, cost_c], 2)\n",
    "    try:\n",
    "        q_roots = np.roots(q)\n",
    "    except np.linalg.LinAlgError:\n",
    "        raise ProjectionError(None, [a, b, c], [cost_a, cost_b, cost_c])\n",
    "    \n",
    "    # Pick first root within image boundary\n",
    "    #for row in q_roots:\n",
    "    #    if 0 <= root < camera_model.rows - 1:\n",
    "    #        return project_at_time(t0 + row * row_delta, X, trajectory, camera_model)\n",
    "    \n",
    "    d = valid_root(q_roots, camera_model)\n",
    "    if d is None:\n",
    "        raise ProjectionError(q_roots, [a, b, c], [cost_a, cost_b, cost_c])\n",
    "    else:\n",
    "        pd = project_at_time(t0 + d * row_delta, X, trajectory, camera_model)\n",
    "        cost_d = d - float(pd[1])\n",
    "        if np.abs(cost_d) > threshold:\n",
    "            raise ProjectionError(q_roots, [a, b, c], [cost_a, cost_b, cost_c])\n",
    "        else:\n",
    "            return (pd, 4) if return_evals else pd"
   ]
  },
  {
   "cell_type": "code",
   "execution_count": 145,
   "metadata": {
    "collapsed": false
   },
   "outputs": [
    {
     "data": {
      "text/plain": [
       "(array([ 68.,  63.,  58.,  63.,  66.,  67.,  71.,  80.,  51.,  67.]),\n",
       " array([-0.16894629, -0.13538294, -0.10181958, -0.06825622, -0.03469287,\n",
       "        -0.00112951,  0.03243385,  0.06599721,  0.09956056,  0.13312392,\n",
       "         0.16668728]),\n",
       " <a list of 10 Patch objects>)"
      ]
     },
     "execution_count": 145,
     "metadata": {},
     "output_type": "execute_result"
    },
    {
     "data": {
      "image/png": "[encoded data removed]",
      "text/plain": [
       "<matplotlib.figure.Figure at 0x7fbaa60e3850>"
      ]
     },
     "metadata": {},
     "output_type": "display_data"
    }
   ],
   "source": [
    "row_all = np.arange(3 * pinhole_camera.rows) / 3.\n",
    "errors_our = []\n",
    "pbar = IntProgress(min=0, max=len(problematic) - 1)\n",
    "display(pbar)\n",
    "for residual, X, t0 in problematic:\n",
    "    cost_func = np.vectorize(functools.partial(cost_function_base, t0, X, ds.trajectory, pinhole_camera, method='linear'))\n",
    "    full_cost = cost_func(row_all)\n",
    "    row_min = row_all[np.argmin(np.abs(full_cost))]\n",
    "    try:\n",
    "        p_our = project_rs(X, t0, ds.trajectory, pinhole_camera)\n",
    "    except ValueError:\n",
    "        print 'Failed to project'\n",
    "    err_our = float(p_our[1]) - row_min\n",
    "    errors_our.append(err_our)\n",
    "    pbar.value += 1\n",
    "plt.hist(errors_our)    "
   ]
  },
  {
   "cell_type": "code",
   "execution_count": 146,
   "metadata": {
    "collapsed": false
   },
   "outputs": [
    {
     "name": "stdout",
     "output_type": "stream",
     "text": [
      "0 failed\n"
     ]
    }
   ],
   "source": [
    "pbar = IntProgress(min=0, max=len(problematic) - 1)\n",
    "display(pbar)\n",
    "failed = []\n",
    "for _, X, t0 in problematic:\n",
    "    try:\n",
    "        p = project_rs(X, t0, ds.trajectory, pinhole_camera)\n",
    "    except ValueError:\n",
    "        failed.append((X, t0))\n",
    "    pbar.value += 1\n",
    "print len(failed), 'failed'"
   ]
  },
  {
   "cell_type": "code",
   "execution_count": 141,
   "metadata": {
    "collapsed": false
   },
   "outputs": [
    {
     "name": "stdout",
     "output_type": "stream",
     "text": [
      "roots [  1.06633401e+05  -4.47785392e-02]\n",
      "x [216, 864, -1.8132904112604535]\n",
      "y [214.15234879698454, 851.2609557071892, -1.7566087633623457]\n"
     ]
    },
    {
     "data": {
      "image/png": "[encoded data removed]",
      "text/plain": [
       "<matplotlib.figure.Figure at 0x7fbaa65f3750>"
      ]
     },
     "metadata": {},
     "output_type": "display_data"
    }
   ],
   "source": [
    "for X, t0 in failed:\n",
    "    cost_func = np.vectorize(functools.partial(cost_function_base, t0, X, ds.trajectory, pinhole_camera, method='linear'))\n",
    "    full_cost = cost_func(row_all)\n",
    "    plt.figure()\n",
    "    plt.plot(row_all, full_cost)\n",
    "    min_idx = np.argmin(np.abs(full_cost))\n",
    "    min_row = row_all[min_idx]\n",
    "    min_cost = full_cost[min_idx]\n",
    "    try:\n",
    "        project_rs(X, t0, ds.trajectory, pinhole_camera)\n",
    "    except ProjectionError as e:\n",
    "        plt.plot(e.xdata, e.ydata, 'x')\n",
    "        print 'roots', e.roots\n",
    "        print 'x', e.xdata\n",
    "        print 'y', e.ydata\n",
    "    plt.title('Minimum row: {:.4f} and cost {:.4f}'.format(min_row, min_cost))"
   ]
  },
  {
   "cell_type": "code",
   "execution_count": 112,
   "metadata": {
    "collapsed": false
   },
   "outputs": [
    {
     "name": "stdout",
     "output_type": "stream",
     "text": [
      "100 loops, best of 3: 1.95 ms per loop\n"
     ]
    }
   ],
   "source": [
    "%timeit project_rs(problematic[0][1], problematic[0][2], ds.trajectory, pinhole_camera)"
   ]
  },
  {
   "cell_type": "code",
   "execution_count": 98,
   "metadata": {
    "collapsed": false
   },
   "outputs": [
    {
     "name": "stdout",
     "output_type": "stream",
     "text": [
      "[[ 1426.16543977]\n",
      " [  502.97689143]]\n",
      "[[ 1426.16553817]\n",
      " [  502.97696513]]\n"
     ]
    }
   ],
   "source": [
    "def project_minimize(X, t0, trajectory, camera_model):\n",
    "    delta_row = float(camera_model.readout) / camera_model.rows\n",
    "    res_dict = {}\n",
    "    def cost_func(row):\n",
    "        t = t0 + row * delta_row\n",
    "        p = project_at_time(t, X, trajectory, camera_model)\n",
    "        return (float(p[1]) - row)**2\n",
    "\n",
    "    res = scipy.optimize.minimize_scalar(cost_func, bounds=(0, camera_model.rows - 1), xatol=0.5)\n",
    "    return p\n",
    "\n",
    "print project_minimize(problematic[0][1], problematic[0][2], ds.trajectory, pinhole_camera)\n",
    "print project_rs(problematic[0][1], problematic[0][2], ds.trajectory, pinhole_camera)\n"
   ]
  },
  {
   "cell_type": "code",
   "execution_count": 113,
   "metadata": {
    "collapsed": false
   },
   "outputs": [
    {
     "name": "stdout",
     "output_type": "stream",
     "text": [
      "100 loops, best of 3: 3.58 ms per loop\n"
     ]
    }
   ],
   "source": [
    "%timeit project_minimize(problematic[0][1], problematic[0][2], ds.trajectory, pinhole_camera)"
   ]
  },
  {
   "cell_type": "code",
   "execution_count": 187,
   "metadata": {
    "collapsed": false
   },
   "outputs": [
    {
     "name": "stdout",
     "output_type": "stream",
     "text": [
      "742846 projections in 1474.0 seconds (1.984ms/projection)\n",
      "43576 of those failed: 5.9%\n",
      "Func eval statistics:\n",
      "1:    131\n",
      "2:     11\n",
      "3: 220898\n",
      "4: 478230\n"
     ]
    },
    {
     "data": {
      "text/plain": [
       "<matplotlib.text.Text at 0x7fbaa443a0d0>"
      ]
     },
     "execution_count": 187,
     "metadata": {},
     "output_type": "execute_result"
    },
    {
     "data": {
      "image/png": "[encoded data removed]",
      "text/plain": [
       "<matplotlib.figure.Figure at 0x7fbaa6fc3890>"
      ]
     },
     "metadata": {},
     "output_type": "display_data"
    }
   ],
   "source": [
    "pbar = IntProgress(min=0, max=len(frame_times)-1)\n",
    "display(pbar)\n",
    "bench_start = time.time()\n",
    "num_projections = 0\n",
    "eval_counter = Counter()\n",
    "num_failed = 0\n",
    "problematic_frames = [] # [(t0, [list of landmarks]), ...]\n",
    "for t0 in frame_times:\n",
    "    landmarks = ds.visible_landmarks(t0 + 0.5 * pinhole_camera.readout)\n",
    "#    random.shuffle(landmarks)\n",
    "    problem_lm = []\n",
    "    for lm in landmarks:\n",
    "        try:\n",
    "            p, neval = project_rs(lm.position.reshape(3,1), t0, ds.trajectory, pinhole_camera, return_evals=True)\n",
    "            eval_counter[neval] += 1\n",
    "        except ProjectionError:\n",
    "            #print 'Failed at time', t0\n",
    "            num_failed += 1\n",
    "            problem_lm.append(lm)\n",
    "        num_projections += 1\n",
    "    pbar.value += 1\n",
    "    if problem_lm:\n",
    "        problematic_frames.append((t0, problem_lm))\n",
    "duration = time.time() - bench_start\n",
    "print '{:d} projections in {:.1f} seconds ({:.3f}ms/projection)'.format(num_projections, duration, 1000. * duration/num_projections)\n",
    "print '{:d} of those failed: {:.1f}%'.format(num_failed, 100. * num_failed / num_projections)\n",
    "print 'Func eval statistics:'\n",
    "for neval, count in eval_counter.items():\n",
    "    print '{:d}: {:>6d}'.format(neval, count)\n",
    "plt.bar(eval_counter.keys(), np.array(eval_counter.values(), dtype='float') / sum(eval_counter.values()), align='center')\n",
    "plt.xlabel('Function evaluations')\n",
    "plt.ylabel('Fraction of projections')\n",
    "plt.title('Distribution of function evaluations')"
   ]
  },
  {
   "cell_type": "markdown",
   "metadata": {},
   "source": [
    "### Check problematic cases"
   ]
  },
  {
   "cell_type": "code",
   "execution_count": 224,
   "metadata": {
    "collapsed": false
   },
   "outputs": [
    {
     "name": "stdout",
     "output_type": "stream",
     "text": [
      "     high cost:   703 (0.0%)\n",
      "  not in image: 42873 (1.0%)\n"
     ]
    },
    {
     "data": {
      "image/png": "[encoded data removed]",
      "text/plain": [
       "<matplotlib.figure.Figure at 0x7fba52a63150>"
      ]
     },
     "metadata": {},
     "output_type": "display_data"
    }
   ],
   "source": [
    "no_roots = []\n",
    "high_cost = []\n",
    "pbar = IntProgress(min=0, max=len(problematic_frames)-1)\n",
    "display(pbar)\n",
    "failure_reason_counter = Counter()\n",
    "for frame_time, bad_landmarks in problematic_frames:\n",
    "    random.shuffle(bad_landmarks)\n",
    "    for lm in bad_landmarks:\n",
    "        X = lm.position.reshape(3,1)\n",
    "        cost_func = np.vectorize(functools.partial(cost_function_base, frame_time, X, ds.trajectory, pinhole_camera, method='linear'))\n",
    "        cost_all = cost_func(row_all)\n",
    "        min_row = row_all[np.argmin(np.abs(cost_all))]\n",
    "        min_cost = np.min(np.abs(cost_all))\n",
    "        if min_cost > 1:\n",
    "            failure_reason_counter['not in image'] += 1\n",
    "            continue\n",
    "        #plt.figure()\n",
    "        #plt.plot(row_all, cost_all)\n",
    "        #plt.axvline(min_row, linestyle='--', color='k')\n",
    "        #print 'Minimum cost {:.1f} at {:.1f}'.format(np.min(np.abs(cost_all)), min_row)\n",
    "        try:\n",
    "            p = project_rs(X, frame_time, ds.trajectory, pinhole_camera)\n",
    "        except ProjectionError as e:\n",
    "            if e.roots is not None:\n",
    "                min_root_error = np.min(np.abs(e.roots - min_row))\n",
    "                #if min_root_error > 500:\n",
    "                #    plt.figure()\n",
    "                #    plt.plot(row_all, cost_all)\n",
    "                #    plt.axvline(min_row, linestyle='--', color='k')\n",
    "                high_cost.append(min_root_error)\n",
    "                failure_reason_counter['high cost'] += 1\n",
    "            else:\n",
    "                failure_reason_counter['no roots'] += 1\n",
    "                no_roots.append((frame_time, lm))\n",
    "    pbar.value += 1\n",
    "plt.hist(high_cost)\n",
    "for reason, count in failure_reason_counter.items():\n",
    "    print '{:>14s}: {:>5d} ({:.1f}%)'.format(reason, count, float(count) / sum(failure_reason_counter.values()))"
   ]
  },
  {
   "cell_type": "code",
   "execution_count": 221,
   "metadata": {
    "collapsed": false
   },
   "outputs": [
    {
     "data": {
      "text/plain": [
       "828"
      ]
     },
     "execution_count": 221,
     "metadata": {},
     "output_type": "execute_result"
    }
   ],
   "source": [
    "sum(failure_reason_counter.values())"
   ]
  },
  {
   "cell_type": "code",
   "execution_count": 214,
   "metadata": {
    "collapsed": false
   },
   "outputs": [
    {
     "data": {
      "text/plain": [
       "5.46"
      ]
     },
     "execution_count": 214,
     "metadata": {},
     "output_type": "execute_result"
    }
   ],
   "source": [
    "0.260 * 420 * 3 / (60.)"
   ]
  },
  {
   "cell_type": "markdown",
   "metadata": {},
   "source": [
    "* Itererande metod. Släng punkter längre bort.\n",
    "* Går att göra med antingen linjär eller kvadratisk metod\n",
    "* Kolla upp Brent\n",
    "\n",
    "#### Ground truth generation\n",
    "1. Grid over all rows (1/3 step)\n",
    "1. Find minimum\n",
    "1. Start new minimization in that point\n",
    "1. Check if final point is within image (row **and column**)\n",
    "\n",
    "### Action plan\n",
    "1. Generate ground truth\n",
    "1. Run our against ground truth\n",
    "  * General method (max=10 iterations?)\n",
    "  * Check error distribution\n",
    "  * Check iteration count distribution\n",
    "1. Implement and compare Newton-Raphson\n",
    "1. Implement and compare Spline-fusion solver"
   ]
  },
  {
   "cell_type": "code",
   "execution_count": null,
   "metadata": {
    "collapsed": true
   },
   "outputs": [],
   "source": []
  }
 ],
 "metadata": {
  "kernelspec": {
   "display_name": "Python 2",
   "language": "python",
   "name": "python2"
  },
  "language_info": {
   "codemirror_mode": {
    "name": "ipython",
    "version": 2
   },
   "file_extension": ".py",
   "mimetype": "text/x-python",
   "name": "python",
   "nbconvert_exporter": "python",
   "pygments_lexer": "ipython2",
   "version": "2.7.11"
  }
 },
 "nbformat": 4,
 "nbformat_minor": 0
}
